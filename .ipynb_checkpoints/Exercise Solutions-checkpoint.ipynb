{
 "cells": [
  {
   "cell_type": "markdown",
   "id": "c21edbf6-3619-48cb-93ec-76203479fb85",
   "metadata": {},
   "source": [
    "# Activity 2\n",
    "### Q1a\n",
    "Print the values of angles that are multiples of pi/6 all the way around the circle. (pi/6, pi/3, pi/2, etc.) only typing “print” once."
   ]
  },
  {
   "cell_type": "code",
   "execution_count": 1,
   "id": "560a733b-3cbc-44ae-aad6-8d633e174e17",
   "metadata": {},
   "outputs": [
    {
     "name": "stdout",
     "output_type": "stream",
     "text": [
      "0.5235987755982988\n",
      "1.0471975511965976\n",
      "1.5707963267948966\n",
      "2.0943951023931953\n",
      "2.6179938779914944\n",
      "3.141592653589793\n",
      "3.665191429188092\n",
      "4.1887902047863905\n",
      "4.71238898038469\n",
      "5.235987755982989\n",
      "5.759586531581287\n",
      "6.283185307179586\n"
     ]
    }
   ],
   "source": [
    "import numpy as np\n",
    "\n",
    "for n in range(1, 13):  # pi/6 is a 12th of a circle\n",
    "    print(n*np.pi/6)"
   ]
  },
  {
   "cell_type": "markdown",
   "id": "3fe5c777-a9cc-45b3-a402-ee4d59479b8c",
   "metadata": {},
   "source": [
    "### Q1b\n",
    "Print the following patter (only typing print once). Hint: this requires a nested loop (loop within a loop)\n",
    "\n",
    "1\n",
    "\n",
    "1 2\n",
    "\n",
    "1 2 3\n",
    "\n",
    "1 2 3 4\n",
    "\n",
    "1 2 3 4 5"
   ]
  },
  {
   "cell_type": "code",
   "execution_count": 13,
   "id": "7330e389-77fc-44b4-9d6f-1793c2c3a192",
   "metadata": {},
   "outputs": [
    {
     "name": "stdout",
     "output_type": "stream",
     "text": [
      "1 \n",
      "1 2 \n",
      "1 2 3 \n",
      "1 2 3 4 \n",
      "1 2 3 4 5 \n"
     ]
    }
   ],
   "source": [
    "for ii in range(1, 6):\n",
    "    for jj in range(1, ii + 1):\n",
    "        print(jj, end=\" \")\n",
    "    print(\"\")"
   ]
  },
  {
   "cell_type": "code",
   "execution_count": 14,
   "id": "f5e45d09-9429-4813-9e46-67ea216ea8f5",
   "metadata": {},
   "outputs": [
    {
     "name": "stdout",
     "output_type": "stream",
     "text": [
      "1\n",
      "1 2\n",
      "1 2 3\n",
      "1 2 3 4\n",
      "1 2 3 4 5\n"
     ]
    }
   ],
   "source": [
    "# alternative\n",
    "for ii in range(1, 6):\n",
    "    line = \"1\"\n",
    "    for jj in range(2, ii + 1):\n",
    "        line = line + f\" {jj:d}\"   # or line += f\" {jj:d}\"\n",
    "    print(line)"
   ]
  },
  {
   "cell_type": "markdown",
   "id": "25f134b4-4de8-4d9d-b13a-e15790f7a0eb",
   "metadata": {},
   "source": [
    "### Q1c\n",
    "Print the whole numbers -20 to -10 in order of more negative to less negative"
   ]
  },
  {
   "cell_type": "code",
   "execution_count": 10,
   "id": "974aac92-71b2-4192-8102-7767637bfdcf",
   "metadata": {},
   "outputs": [
    {
     "name": "stdout",
     "output_type": "stream",
     "text": [
      "-20\n",
      "-19\n",
      "-18\n",
      "-17\n",
      "-16\n",
      "-15\n",
      "-14\n",
      "-13\n",
      "-12\n",
      "-11\n",
      "-10\n"
     ]
    }
   ],
   "source": [
    "for ii in range(-20, -9, 1):\n",
    "    print(ii)"
   ]
  },
  {
   "cell_type": "markdown",
   "id": "630a6187-d765-4284-882e-a0a690e6abc0",
   "metadata": {},
   "source": [
    "### Q1d\n",
    "Print the first 10 Fibonacci numbers using 0 and 1 as the first two number (seeds)."
   ]
  },
  {
   "cell_type": "code",
   "execution_count": 12,
   "id": "90310b8f-ff9f-4276-a926-6fdd83ffba2f",
   "metadata": {},
   "outputs": [
    {
     "name": "stdout",
     "output_type": "stream",
     "text": [
      "1\n",
      "2\n",
      "3\n",
      "5\n",
      "8\n",
      "13\n",
      "21\n",
      "34\n",
      "55\n",
      "89\n"
     ]
    }
   ],
   "source": [
    "num1 = 0\n",
    "num2 = 1\n",
    "for ii in range(10):\n",
    "    new_num = num1 + num2\n",
    "    num1 = num2\n",
    "    num2 = new_num\n",
    "    print(new_num)"
   ]
  },
  {
   "cell_type": "markdown",
   "id": "62ccfd1a-308f-4ff2-ba54-cda4545b1b97",
   "metadata": {},
   "source": [
    "### Q2\n",
    "Determine the number of digits in the int: num=4256687749"
   ]
  },
  {
   "cell_type": "code",
   "execution_count": 7,
   "id": "b252422d-c125-4269-b342-09d4f6866276",
   "metadata": {},
   "outputs": [
    {
     "name": "stdout",
     "output_type": "stream",
     "text": [
      "10\n"
     ]
    }
   ],
   "source": [
    "num = 4256687749\n",
    "num_str = f\"{num}\"\n",
    "digits = len(num_str)\n",
    "print(digits)"
   ]
  },
  {
   "cell_type": "markdown",
   "id": "08f50afa-421b-436a-8c3f-2c70b607f252",
   "metadata": {},
   "source": [
    "# Activity 3\n",
    "### Q1a\n",
    "Has an input of a list of numbers as an input and returns a new list that only contains numbers less than 10."
   ]
  },
  {
   "cell_type": "code",
   "execution_count": 16,
   "id": "af6d7b39-bea5-4809-9f0b-74081ef7a49b",
   "metadata": {},
   "outputs": [
    {
     "name": "stdout",
     "output_type": "stream",
     "text": [
      "[5, 6, 7, 8, 9]\n"
     ]
    }
   ],
   "source": [
    "def less_than_10(list_in: list) -> list:\n",
    "    list_out = []\n",
    "    for element in list_in:\n",
    "        if element < 10:\n",
    "            list_out.append(element)\n",
    "    return list_out\n",
    "\n",
    "print(less_than_10(list(range(5, 15))))"
   ]
  },
  {
   "cell_type": "code",
   "execution_count": 18,
   "id": "931dc262-3c5c-450d-a070-73195ed185b6",
   "metadata": {},
   "outputs": [
    {
     "name": "stdout",
     "output_type": "stream",
     "text": [
      "[5, 6, 7, 8, 9]\n"
     ]
    }
   ],
   "source": [
    "# bonus with numpy\n",
    "\n",
    "def less_than_10_np(list_in: list) -> list:\n",
    "    array_in = np.array(list_in)\n",
    "    array_out = array_in[np.where(array_in < 10)]\n",
    "    return array_out.tolist()\n",
    "\n",
    "print(less_than_10_np(list(range(5, 15))))"
   ]
  },
  {
   "cell_type": "markdown",
   "id": "1e8f593f-5dce-45d8-acb4-00a23d343c45",
   "metadata": {},
   "source": [
    "### Q1b\n",
    "Has an input of a list and returns a new list where all repeated values are removed."
   ]
  },
  {
   "cell_type": "code",
   "execution_count": 20,
   "id": "4571777b-56a4-4c92-a28a-ce23e0f2b805",
   "metadata": {},
   "outputs": [
    {
     "name": "stdout",
     "output_type": "stream",
     "text": [
      "[1, 2, 3, 4]\n"
     ]
    }
   ],
   "source": [
    "def remove_repeated(list_in: list) -> list:\n",
    "    list_out = []\n",
    "    for element in list_in:\n",
    "        if element not in list_out:\n",
    "            list_out.append(element)\n",
    "    return list_out\n",
    "\n",
    "print(remove_repeated([1,2,2,3,4,1,2,3,4,4,1,1,2,1,1,2,1,2]))"
   ]
  },
  {
   "cell_type": "code",
   "execution_count": 21,
   "id": "2ea9daae-f506-42c3-8725-b5f7650befb3",
   "metadata": {},
   "outputs": [
    {
     "name": "stdout",
     "output_type": "stream",
     "text": [
      "[1, 2, 3, 4]\n"
     ]
    }
   ],
   "source": [
    "# using sets (sets are lists without repeated items...)\n",
    "def remove_repeated_set(list_in: list) -> list:\n",
    "    return list(set(list_in))\n",
    "\n",
    "print(remove_repeated_set([1,2,2,3,4,1,2,3,4,4,1,1,2,1,1,2,1,2]))"
   ]
  },
  {
   "cell_type": "markdown",
   "id": "59970a2e-6456-484f-854f-3f6847a7937f",
   "metadata": {},
   "source": [
    "### Q1c\n",
    "Has two inputs (a starting number and a stopping number) and returns a list of all the prime numbers between those numbers"
   ]
  },
  {
   "cell_type": "code",
   "execution_count": 38,
   "id": "06cf1a8d-b7db-4f18-9042-365f56eefcc2",
   "metadata": {},
   "outputs": [
    {
     "name": "stdout",
     "output_type": "stream",
     "text": [
      "[23, 29, 31, 37, 41, 43, 47]\n"
     ]
    }
   ],
   "source": [
    "def find_primes(start: int, stop: int) -> list:\n",
    "    primes = np.array([2, 3, 5, 7])   # sometimes it's okay to cheat a bit\n",
    "    for num_to_check in range(11, stop + 1, 2):   # only check odd numbers because all evens other than 2 are not prime.\n",
    "        is_prime = True    # assume innocent until proven guilty\n",
    "        for prime in primes:\n",
    "            if (num_to_check % prime) == 0:\n",
    "                is_prime = False\n",
    "                break\n",
    "        if is_prime:\n",
    "            primes = np.append(primes, num_to_check)\n",
    "    return primes[np.where(primes > start)].tolist()\n",
    "\n",
    "print(find_primes(20, 50))"
   ]
  },
  {
   "cell_type": "code",
   "execution_count": 35,
   "id": "fc284d03-f736-4fa7-94ab-62a0954a6c4c",
   "metadata": {},
   "outputs": [
    {
     "name": "stdout",
     "output_type": "stream",
     "text": [
      "[23, 29, 31, 37, 41, 43, 47]\n"
     ]
    }
   ],
   "source": [
    "def find_primes2(start: int, stop: int) -> list:\n",
    "    primes = []\n",
    "    for num_to_check in range(start, stop + 1):\n",
    "        prime = True      # assume innocent until proven guilty\n",
    "        if num_to_check > 1:\n",
    "            for ii in range(2, num_to_check):\n",
    "                if (num_to_check % ii) == 0:\n",
    "                    prime = False\n",
    "                    break\n",
    "        else:\n",
    "            prime = False\n",
    "        if prime:\n",
    "            primes.append(num_to_check)\n",
    "    return primes\n",
    "\n",
    "print(find_primes2(20, 50))"
   ]
  },
  {
   "cell_type": "markdown",
   "id": "35b4529a-e497-474a-a0fc-8ed333f4b646",
   "metadata": {},
   "source": [
    "### Q2a\n",
    "Create a dictionary using the following the lists as inputs:\n",
    "\n",
    "keys = ['Twelve', 'three', 'nine']\n",
    "\n",
    "values = [12, 3, 9]"
   ]
  },
  {
   "cell_type": "code",
   "execution_count": 41,
   "id": "2a5d2155-9db5-4025-ad0b-03d950b31161",
   "metadata": {},
   "outputs": [
    {
     "name": "stdout",
     "output_type": "stream",
     "text": [
      "{'Twelve': 12, 'three': 3, 'nine': 9}\n"
     ]
    }
   ],
   "source": [
    "keys = ['Twelve', 'three', 'nine']\n",
    "values = [12, 3, 9]\n",
    "\n",
    "dict1 = {}\n",
    "for key, val in zip(keys, values):\n",
    "    dict1[key] = val\n",
    "\n",
    "print(dict1)"
   ]
  },
  {
   "cell_type": "code",
   "execution_count": 42,
   "id": "e4b910ea-2755-4096-aa9c-287ace1bedd3",
   "metadata": {},
   "outputs": [
    {
     "name": "stdout",
     "output_type": "stream",
     "text": [
      "{'Twelve': 12, 'three': 3, 'nine': 9}\n"
     ]
    }
   ],
   "source": [
    "# the fast way\n",
    "dict1 = dict(zip(keys, values))\n",
    "print(dict1)"
   ]
  },
  {
   "cell_type": "markdown",
   "id": "9e214c36-249d-4578-8545-7f635b633800",
   "metadata": {},
   "source": [
    "### Q2b\n",
    "Merge that dictionary with another dictionary\n",
    "\n",
    "dict2 = {'two': 2, 'four': 4, 'eight': 8}"
   ]
  },
  {
   "cell_type": "code",
   "execution_count": 43,
   "id": "2871e26c-dc83-4f66-a5e0-aa5a0e977c5d",
   "metadata": {},
   "outputs": [
    {
     "name": "stdout",
     "output_type": "stream",
     "text": [
      "{'Twelve': 12, 'three': 3, 'nine': 9, 'two': 2, 'four': 4, 'eight': 8}\n"
     ]
    }
   ],
   "source": [
    "dict2 = {'two': 2, 'four': 4, 'eight': 8}\n",
    "\n",
    "for key in dict2.keys():\n",
    "    dict1[key] = dict2[key]\n",
    "print(dict1)"
   ]
  },
  {
   "cell_type": "code",
   "execution_count": 47,
   "id": "06a0e358-85e9-40b4-9446-d50b13183600",
   "metadata": {},
   "outputs": [
    {
     "name": "stdout",
     "output_type": "stream",
     "text": [
      "{'Twelve': 12, 'three': 3, 'nine': 9, 'two': 2, 'four': 4, 'eight': 8}\n"
     ]
    }
   ],
   "source": [
    "# another way\n",
    "dict1 = dict(zip(keys, values))\n",
    "dict2 = {'two': 2, 'four': 4, 'eight': 8}\n",
    "dict1.update(dict2)\n",
    "print(dict1)"
   ]
  },
  {
   "cell_type": "code",
   "execution_count": null,
   "id": "58a207a5-1c2d-447e-bcce-c8e6f49dfa4b",
   "metadata": {},
   "outputs": [],
   "source": []
  }
 ],
 "metadata": {
  "kernelspec": {
   "display_name": "Python 3 (ipykernel)",
   "language": "python",
   "name": "python3"
  },
  "language_info": {
   "codemirror_mode": {
    "name": "ipython",
    "version": 3
   },
   "file_extension": ".py",
   "mimetype": "text/x-python",
   "name": "python",
   "nbconvert_exporter": "python",
   "pygments_lexer": "ipython3",
   "version": "3.10.6"
  }
 },
 "nbformat": 4,
 "nbformat_minor": 5
}
