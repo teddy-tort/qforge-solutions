{
 "cells": [
  {
   "cell_type": "markdown",
   "id": "136fee3c-bb6b-4b32-8863-cfd893ac98a2",
   "metadata": {},
   "source": [
    "# Error Analysis Activity 1: Statistical Measurement Uncertainty and Error Bars\n",
    "## __Learning Goals__\n",
    "At the end of this activity you will be able to ...\n",
    "1. ... explain the merits of different waays to estimate the __statistical__ uncertainty in common measurements like a DC voltage reading.\n",
    "2. ... explain which of the methods actually give an estimate of the standard deviation, which over/underestimate the uncertainty, and which are just a rough estimate of the uncertainty.\n",
    "3. ... compute the uncertainty in a derived quantity using the uncertainties in the measured quantities (error propagation).\n",
    "4. …add error bars to a plot as a visual representation of uncertainty.\n"
   ]
  },
  {
   "cell_type": "markdown",
   "id": "ceb2a028-051e-40c9-90ea-5add1c2879bc",
   "metadata": {},
   "source": [
    "## __Introduction To Measurement Uncertainty__\n",
    "When attempting to establish the validity of our experimental results it is always important to quantify the uncertainty.  Measurement uncertainty wasn’t invented to make lab classes tedious, rather it is a core part of any experimental work that gives us a way to quantify how much we trust our results.\n",
    "\n",
    "A simple and rigorous way to make a measurement and estimate its uncertainty is to take  measurements $\\{y_1,y_2,...,y_N\\}$ and estimate the value by the mean:\n",
    "\n",
    "$\\begin{equation}\\bar{y}=\\frac{1}{N}\\sum_{i=0}^{N-1} y_i\\end{equation}$\n",
    "\n",
    "The estimated uncertainty (standard deviation, $\\sigma_y$, or variance $\\sigma_y^2$) of any one measurement is given by \n",
    "\n",
    "$\\begin{equation}\\sigma_y^2=\\frac{1}{N-1}\\sum_{i=0}^{N-1} (y_i-\\bar{y})^2\\end{equation}$\n",
    "\n",
    "While the uncertainty in the mean value $\\sigma_{\\bar{y}}^2$ is smaller and is given by\n",
    "\n",
    "$\\begin{equation}\\sigma_{\\bar{y}}^2=\\frac{\\sigma_y^2}{N}\\end{equation}$\n",
    "\n",
    "The remainder of this activity will discuss a variety of practical considerations about using uncertainty in the lab.\n"
   ]
  },
  {
   "cell_type": "markdown",
   "id": "852caaa3-3dd3-42de-a914-a8de53020633",
   "metadata": {},
   "source": [
    "## __Estimating the Mean and Uncertainty__\n",
    "The next four questions cover a basic measurement that is essential in essentially ANY experiment.  In this case, we are interested in measuring a thermocouple voltage. __In a group of 2 or 3, find a lab bench with a thermocouple.  Your job is to measure the DC thermocouple voltage.  We will do that with the thermocouple at several temperatures.__"
   ]
  },
  {
   "cell_type": "markdown",
   "id": "6a1c347d-fdfa-4277-8ab5-537b3f85a449",
   "metadata": {},
   "source": [
    "#### Question 1: __Measurement and uncertainty using the multimeter__\n",
    "\n",
    "_Note:  It may be possible to answer questions 1 and 2 at the same time if you use a BNC “T” to send the voltage to a multimeter and oscilloscope at the same time._\n",
    "\n",
    "Make a table of estimated DC voltages from the thermocouple and the corresponding uncertainties using the following methods\n",
    "\n",
    "- “Eyeball” the mean. “Eyeball” the amplitude of the random fluctuations.\n",
    "- If your multimeter has the capability, set the multimeter on max/min mode to record the  and  fluctuations over a certain time period.  You can estimate the mean by  and the uncertainty by .\n",
    "- Record the instantaneous voltage reading on the multimeter  times and calculate the estimated uncertainty from the standard deviation.\n",
    "- What is the resolution intrinsic to the multimeter according to the spec sheet (https://physicscourses.colorado.edu/phys4430/phys4430_fa19/datasheets/Fluke_115_Multimeter_Data_Sheet.PDF) (No measurement required)  How does this compare to the observed uncertainty in parts a-c?"
   ]
  },
  {
   "cell_type": "code",
   "execution_count": null,
   "id": "35e79ac6-1875-429a-a191-c7b6f162ca64",
   "metadata": {},
   "outputs": [],
   "source": []
  }
 ],
 "metadata": {
  "kernelspec": {
   "display_name": "Python 3 (ipykernel)",
   "language": "python",
   "name": "python3"
  },
  "language_info": {
   "codemirror_mode": {
    "name": "ipython",
    "version": 3
   },
   "file_extension": ".py",
   "mimetype": "text/x-python",
   "name": "python",
   "nbconvert_exporter": "python",
   "pygments_lexer": "ipython3",
   "version": "3.10.6"
  }
 },
 "nbformat": 4,
 "nbformat_minor": 5
}
