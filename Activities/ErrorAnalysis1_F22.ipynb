{
 "cells": [
  {
   "cell_type": "markdown",
   "id": "136fee3c-bb6b-4b32-8863-cfd893ac98a2",
   "metadata": {},
   "source": [
    "# Error Analysis Activity 1: Statistical Measurement Uncertainty and Error Bars\n",
    "## __LEARNING GOALS__\n",
    "At the end of this activity you will be able to ...\n",
    "1. ... explain the merits of different waays to estimate the __statistical__ uncertainty in common measurements like a DC voltage reading.\n",
    "2. ... explain which of the methods actually give an estimate of the standard deviation, which over/underestimate the uncertainty, and which are just a rough estimate of the uncertainty.\n",
    "3. ... compute the uncertainty in a derived quantity using the uncertainties in the measured quantities (error propagation).\n",
    "4. …add error bars to a plot as a visual representation of uncertainty.\n"
   ]
  },
  {
   "cell_type": "markdown",
   "id": "ceb2a028-051e-40c9-90ea-5add1c2879bc",
   "metadata": {},
   "source": [
    "## __INTRODUCTION TO MEASUREMENT UNCERTAINTY__\n",
    "When attempting to establish the validity of our experimental results it is always important to quantify the uncertainty.  Measurement uncertainty wasn’t invented to make lab classes tedious, rather it is a core part of any experimental work that gives us a way to quantify how much we trust our results.\n",
    "\n",
    "A simple and rigorous way to make a measurement and estimate its uncertainty is to take  measurements $\\{y_1,y_2,...,y_N\\}$ and estimate the value by the mean:\n",
    "\n",
    "$\\begin{equation}\\bar{y}=\\frac{1}{N}\\sum\\limits_{i=0}^{N-1} y_i\\end{equation}$\n",
    "\n",
    "The estimated uncertainty (standard deviation, $\\sigma_y$, or variance $\\sigma_y^2$) of any one measurement is given by \n",
    "\n",
    "$\\begin{equation}\\sigma_y^2=\\frac{1}{N-1}\\sum\\limits_{i=0}^{N-1} (y_i-\\bar{y})^2\\end{equation}$\n",
    "\n",
    "While the uncertainty in the mean value $\\sigma_{\\bar{y}}^2$ is smaller and is given by\n",
    "\n",
    "$\\begin{equation}\\sigma_{\\bar{y}}^2=\\frac{\\sigma_y^2}{N}\\end{equation}$\n",
    "\n",
    "The remainder of this activity will discuss a variety of practical considerations about using uncertainty in the lab.\n"
   ]
  },
  {
   "cell_type": "code",
   "execution_count": 2,
   "id": "9e1bc423-7a94-4d50-b48e-28257c956258",
   "metadata": {},
   "outputs": [],
   "source": [
    "import numpy as np\n",
    "y = np.random.sample(10)  # an array of 10 random numbers\n",
    "y_mean = np.sum(y)/len(y)  # to find the mean, you add up all the values in the array and divide by the number of elements in the array\n",
    "# for the variance, subtracting the mean and squaring that difference will apply the operation to each element in y\n",
    "# so we can do this before summing over each element to reproduce the equation above\n",
    "y_var = np.sum((y-y_mean)**2)/(len(y)-1)"
   ]
  },
  {
   "cell_type": "markdown",
   "id": "852caaa3-3dd3-42de-a914-a8de53020633",
   "metadata": {},
   "source": [
    "## __ESTIMATING MEAN AND UNCERTAINTY__\n",
    "The next four questions cover a basic measurement that is essential in essentially ANY experiment.  In this case, we are interested in measuring a thermocouple voltage. __In a group of 2 or 3, find a lab bench with a thermocouple.  Your job is to measure the DC thermocouple voltage.  We will do that with the thermocouple at several temperatures.__"
   ]
  },
  {
   "cell_type": "markdown",
   "id": "6a1c347d-fdfa-4277-8ab5-537b3f85a449",
   "metadata": {},
   "source": [
    "#### Question 1: __Measurement and uncertainty using the multimeter__\n",
    "\n",
    "_Note:  It may be possible to answer questions 1 and 2 at the same time if you use a BNC “T” to send the voltage to a multimeter and oscilloscope at the same time._\n",
    "\n",
    "Make a table of estimated DC voltages from the thermocouple and the corresponding uncertainties using the following methods\n",
    "\n",
    "- a. “Eyeball” the mean. “Eyeball” the amplitude of the random fluctuations.\n",
    "- b. If your multimeter has the capability, set the multimeter on max/min mode to record the $V_{\\text{max}}$ and $V_{\\text{min}}$ fluctuations over a certain time period. You can estimate the mean by $(V_{\\text{max}}+V_{\\text{min}})/2$ and the uncertainty by $(V_{\\text{max}}-V_{\\text{min}})/2$.\n",
    "- c. Record the instantaneous voltage reading on the multimeter  times and calculate the estimated uncertainty from the standard deviation.\n",
    "- d. What is the resolution intrinsic to the multimeter according to the spec sheet (https://physicscourses.colorado.edu/phys4430/phys4430_fa19/datasheets/Fluke_115_Multimeter_Data_Sheet.PDF) (No measurement required)  How does this compare to the observed uncertainty in parts a-c?\n"
   ]
  },
  {
   "cell_type": "markdown",
   "id": "2d2ce057-f909-4ab3-8e82-95d3f5ba66fc",
   "metadata": {
    "tags": []
   },
   "source": [
    "#### Question 2: __Measurement and uncertainty using the oscilliscope__\n",
    "\n",
    "Continue the previous table of estimated DC voltages from the thermocouple and the \n",
    "corresponding uncertainties using the following methods.  For each method comment on if and \n",
    "how it depends on the setting for the time scale or voltage scale on the oscilloscope. \n",
    " \n",
    "- a. “Eyeball” the mean. “Eyeball” the amplitude of the random fluctuations (no cursors or measurement tools). \n",
    "- b. Use the measurement function on the scope to record the mean and RMS fluctuations. \n",
    "- c. Use the cursors to measure the mean and size of fluctuations. \n",
    "- d. Record the voltage from the oscilloscope N times and calculate the estimated uncertainty from the standard deviation. \n",
    "- e. A comparison with the data sheet is difficult because so many factors affect the observed noise in the oscilloscope. You can find some information here (https://physicscourses.colorado.edu/phys4430/phys4430_fa19/UsefulDocs/Rigol_DS1052E_Oscilloscope_Datasheet.PDF). There is information about the resolution and the DC measurement accuracy. "
   ]
  },
  {
   "cell_type": "markdown",
   "id": "66107cd4-cc4c-4127-aaf0-bfab0858c378",
   "metadata": {},
   "source": [
    "#### Question 3: __Summary of Questions 1 and 2 (make sure to support your answers for each question):__\n",
    "\n",
    "- a. Did any methods overestimate the uncertainty? \n",
    "- b. Did any methods underestimate the uncertainty? \n",
    "- c. How reliable was “eyeballing”? \n",
    "- d. Did the time scale or voltage scale affect any of the oscilloscope measurements?  If yes, how?  Does this tell you anything about how to use the scope? \n",
    "- e. Suppose the temperature of the thermocouple was not constant during the measurements (due to variations of the laser, room lights, etc.).  In which estimates of the uncertainty will this be included? \n",
    "- f. Which method(s) should give a true estimate for the uncertainty?"
   ]
  },
  {
   "cell_type": "markdown",
   "id": "790483fd-af33-4894-88f8-6929116f5129",
   "metadata": {},
   "source": [
    "#### Question 4: __Measure the thermocouple voltage at several temperatures.__\n",
    "\n",
    "Thermocouples are one of the standard ways of measuring temperature in a wide variety of \n",
    "applications, including moderately low temperature refrigerators.  Let’s use a thermocouple to \n",
    "measure the thermocouple voltage at a few special temperatures.  Be sure to measure not only \n",
    "the thermocouple voltage, but your uncertainty in that voltage.  Keep notes on the technique \n",
    "you used to estimate the uncertainty. \n",
    " \n",
    "- a. Measure the thermocouple voltage and uncertainty in boiling water.  What temperature is this supposed to be on the Centigrade/Celsius scale? \n",
    "- b. Measure the thermocouple voltage and uncertainty in ice water.  What temperature is this supposed to be on the Centigrade/Celsius scale? \n",
    "- c. Measure the thermocouple voltage and uncertainty in liquid nitrogen.  What temperature is this supposed to be on the Centigrade/Celsius scale? \n",
    "- d. Compare your measurements of the thermocouple voltage (minus the voltage at the ice water temperature) versus temperature to the known behavior of K-type thermocouples.  Do your measurements agree with some source?  What is your source?  How did you decide whether things are in agreement? "
   ]
  },
  {
   "cell_type": "markdown",
   "id": "e2bac4bf-3341-49e6-8340-9b518171458d",
   "metadata": {},
   "source": [
    "## __WRITING NUMBERS AND THEIR UNCERTAINTY__\n",
    "\n",
    "The convention used in this course is that we  \n",
    "1) only display one significant digit of the uncertainty (two are allowed if the first significant digit is a 1)  \n",
    "2) display the measurement to the same digit as the uncertainty. \n",
    "The numbers 154±3, 576.33±0.04, and 245.1±1.4 follow the convention.  However, numbers copied from the \n",
    "computer are often displayed as “machine precision” with no regard for significant digits.  "
   ]
  },
  {
   "cell_type": "markdown",
   "id": "720f7dfe-c369-43ff-9eec-4bc34d1671c5",
   "metadata": {},
   "source": [
    "#### Question 5\n",
    "\n",
    "Python generated the following fit parameters and corresponding uncertainties: \n",
    " \n",
    "𝑎=−0.6699999999999988±0.6751049301158053 \n",
    "𝑏=2.2700000000000005±0.2035517952102936 \n",
    " \n",
    "How should you format the Python print statement to show the right amount of precision? "
   ]
  },
  {
   "cell_type": "code",
   "execution_count": 30,
   "id": "05e38eaf-d5dc-43ce-a3ec-17b5d6fac65d",
   "metadata": {},
   "outputs": [],
   "source": [
    "\"\"\"Here's a function you can copy and use to print a number and its uncertainty. You can expand its feature set so \n",
    "that it’s capable of printing in scientific notation.\"\"\"\n",
    "\n",
    "def print_unc(value: float, uncertainty: float, units: str = None, sci_not: bool = False) -> str:\n",
    "    \"\"\"\n",
    "    Print a number and its uncertainty with the proper amount of significant digits.\n",
    "    :param value: the value of the number you are printing.\n",
    "    :param uncertainty: the value of the uncertainty of the above value.\n",
    "    :param units: optionally can pass in a string to tack on for the units of the number.\n",
    "    :param sci_not: optionally can make this value True to put the number in scientific notation.\n",
    "    :return: as well as printing, it will return the string value in case you'd like to store it and use it elsewhere\n",
    "    \"\"\"\n",
    "    pm = \"\\u00B1\"      # unicode for plus minus symbol\n",
    "    \n",
    "    if sci_not:\n",
    "        print_type = \"e\"\n",
    "    else:\n",
    "        print_type = \"f\"\n",
    "        \n",
    "    # put uncertainty into scientific notation -> uncertainty = unc_sci_not * 10^unc_sci_not_order\n",
    "    unc_sci_not = uncertainty / 10 ** int(np.floor(np.log10(uncertainty)))\n",
    "    unc_sci_not_order = int(np.log10(uncertainty/unc_sci_not))\n",
    "    if unc_sci_not_order < 0:               # if the uncertainty is a decimal, we have to treat the print a particular way.\n",
    "        sig_fig = abs(unc_sci_not_order)          # the number of sig-figs will match the order of magnitude of the uncertainty\n",
    "        if unc_sci_not < 2:                # except if the first digit is 1, then we have one extra sig-fig\n",
    "            sig_fig += 1\n",
    "        print_string = f\"{value:.{sig_fig}{print_type}} {pm:s} {uncertainty:.{sig_fig}{print_type}}\"\n",
    "    \n",
    "    elif uncertainty < 2:                   # if uncertainty is 1.x, the we need to print 1 sig fig passed the decimal\n",
    "        print_string = f\"{value:.1{print_type}} {pm:s} {uncertainty:.1{print_type}}\"\n",
    "    \n",
    "    else:                                   # if uncertainty is a whole number, we have to truncate somewhere on the left side of the decimal\n",
    "        print_type = \"d\"\n",
    "        if unc_sci_not < 2:                 # if uncertainty starts with 1.\n",
    "            value = int(np.round(value * 10 ** -(unc_sci_not_order - 1)) * 10 ** (unc_sci_not_order - 1))\n",
    "            uncertainty = int(np.round(unc_sci_not * 10) *10 ** (unc_sci_not_order - 1))\n",
    "        else:\n",
    "            value = int(np.round(value * 10 ** -unc_sci_not_order) * 10 ** unc_sci_not_order)\n",
    "            uncertainty = int(np.round(unc_sci_not) * 10 ** unc_sci_not_order)\n",
    "        print_string = f\"{value:{print_type}} {pm:s} {uncertainty:{print_type}}\"\n",
    "    if units is not None:\n",
    "        print_string = f\"({print_string:s}) {units:s}\"\n",
    "    print(print_string)\n",
    "    return print_string"
   ]
  },
  {
   "cell_type": "code",
   "execution_count": 34,
   "id": "68e3370a-d8ee-48ad-bdf2-21c7b4d09304",
   "metadata": {},
   "outputs": [],
   "source": [
    "# you can play with the function here"
   ]
  },
  {
   "cell_type": "markdown",
   "id": "780baa3a-ff17-48b3-9416-e82ca15f3639",
   "metadata": {},
   "source": [
    "## __ERROR PROPAGATION: FROM MEASURED TO DERIVED QUANTITIES__\n",
    "\n",
    "The quantity of interest in an experiment is often derived from other measured quantities.  An example is \n",
    "estimating the resistance of a circuit element from measurements of current and voltage, using Ohm’s law (𝑅 =\n",
    "𝑉 / 𝐼) to convert our measured quantities (voltage and current) into a derived quantity (resistance).   \n",
    "Error propagation comes in when we want to estimate the uncertainty in the derived quantity based on the \n",
    "uncertainties in the measured quantities.  Keeping things general, suppose we want to derive a quantity 𝑧 from a \n",
    "set of measured quantities 𝑎, 𝑏, 𝑐, etc.  The mathematical function which gives us 𝑧 is 𝑧 =𝑧(𝑎,𝑏,𝑐,...).  In general, \n",
    "any fluctuation in the measured quantities 𝑎, 𝑏, 𝑐, ... will cause a fluctuation in 𝑧 according to \n",
    "\n",
    "$\\begin{equation}\\delta z = \\frac{\\partial z}{\\partial a}\\delta a + \\frac{\\partial z}{\\partial b}\\delta b + \\frac{\\partial z}{\\partial c}\\delta c + ...\\end{equation} \\ \\ \\ \\ \\ \\ \\ \\ \\ \\ \\ \\ \\ \\ \\ \\ \\ (1)$\n",
    "\n",
    "This equation comes straight from basic calculus.  It’s like the first term in a Taylor series.  It’s the linear \n",
    "approximation of 𝑧(𝑎,𝑏,𝑐,...) near ($𝑎_0,𝑏_0,𝑐_0,...$) .  However, we don’t know the exact magnitude or sign of the \n",
    "fluctuations, rather we just can estimate the spread in 𝛿𝑎, 𝛿𝑏, 𝛿𝑐, which we often use the standard deviations $𝜎_𝑎, 𝜎_𝑏, 𝜎_𝑐$.  In this case, the propagated uncertainty in 𝑧 is:\n",
    "\n",
    "$\\begin{equation}\\sigma_z^2 = (\\frac{\\partial z}{\\partial a})^2 \\sigma_a^2+(\\frac{\\partial z}{\\partial b})^2 \\sigma_b^2+(\\frac{\\partial z}{\\partial c})^2 \\sigma_c^2\\end{equation} \\ \\ \\ \\ \\ \\ \\ \\ \\ \\ \\ \\ \\ \\ \\ \\ \\ (2)$\n",
    "\n",
    "There are standard equations provided in courses like the introductory physics lab for the error in the sum, \n",
    "difference, product, quotient.  These are all easily derived from the general formula. "
   ]
  },
  {
   "cell_type": "markdown",
   "id": "6075cbd0-3b6c-456a-a43f-bd4742f708a1",
   "metadata": {},
   "source": [
    "#### Question 6 __Review things from long ago...__\n",
    "\n",
    "Apply the general error propagation formula in Eq. 2 to calculate the derived uncertainty $𝜎_𝑧^2$ in \n",
    "terms of the measurement uncertainties $𝜎_𝑎$ and $𝜎_𝑏$ when \n",
    "- a. 𝑧 =𝑎+𝑏 \n",
    "- b. 𝑧 =𝑎−𝑏 \n",
    "- c. 𝑧 =𝑎𝑏"
   ]
  },
  {
   "cell_type": "markdown",
   "id": "ed6832e4-ad32-4ea6-85c0-8afddf387a96",
   "metadata": {},
   "source": [
    "#### Question 7\n",
    "\n",
    "In the case where a voltage 𝑉 and current 𝐼 are measured to derive the resistance 𝑅, use Eq. 2 to \n",
    "calculate the uncertainty in 𝑅 in terms of the uncertainties $𝜎_𝐼$ and $𝜎_𝑉$."
   ]
  },
  {
   "cell_type": "markdown",
   "id": "68d78d36-cfdc-4d8d-bfd7-b98842157da9",
   "metadata": {},
   "source": [
    "#### Question 8\n",
    "\n",
    "A diffraction grating can be used to measure the wavelength of light using $2a\\sin\\theta =n\\lambda$ where 𝑎 \n",
    "is distance between the grating spacing, and 𝜃 is the angle of incidence and reflection, and 𝑛 is \n",
    "the “order” of the diffraction peak.  Note that 𝑛 is an integer.  If we derive 𝜆 from measurements \n",
    "of 𝜃 and 𝑎, use Eq. 2 to calculate the uncertainty in 𝜆 in terms of the uncertainty in 𝑎 and 𝜃:  $𝜎_𝑎$ \n",
    "and $𝜎_𝜃$. "
   ]
  },
  {
   "cell_type": "markdown",
   "id": "a8bf0809-d52e-4fb9-a62f-20be91e304e2",
   "metadata": {},
   "source": [
    "## __ERROR PROPOGATION IN PYTHON__\n",
    "\n",
    "So far, we have explored the use of Python for basic data analysis and plotting, but Python also has some symbolic \n",
    "math capabilities in the package “SymPy”. You can install using a terminal with pip “pip install sympy” or in \n",
    "Anaconda (should already be installed in the base environment). One example where this can be helpful is for \n",
    "complicated error propagation calculations. The following bit of Python code is an example of how to use it to \n",
    "calculate uncertainty. The x and y from sympy.abc are symbols that can be used to make expressions. You can \n",
    "import more symbols as needed. \n",
    "\n",
    "Let's look at an example where we calculate the uncertainty of $z(x, y) = x^2+y^2$ given $x=20$, $y=12$, $\\delta x=0.15$, and $\\delta y=2$"
   ]
  },
  {
   "cell_type": "code",
   "execution_count": 41,
   "id": "0b7e56b1-48b2-4f15-99a4-e0dec9085c5e",
   "metadata": {},
   "outputs": [
    {
     "name": "stdout",
     "output_type": "stream",
     "text": [
      "540 ± 50\n"
     ]
    },
    {
     "data": {
      "text/plain": [
       "'540 ± 50'"
      ]
     },
     "execution_count": 41,
     "metadata": {},
     "output_type": "execute_result"
    }
   ],
   "source": [
    "import sympy as sym\n",
    "\n",
    "x = sym.symbols(\"x\")\n",
    "y = sym.symbols(\"y\")\n",
    "z = x ** 2 + y ** 2\n",
    "wrt = (x, y)  # with respect to\n",
    "\n",
    "vals = (20., 12.)  # must match order of tuple above\n",
    "uncs = (0.15, 2.)  # must match order of tuple above\n",
    "\n",
    "z_val = float(z.evalf(subs=dict(zip(wrt, vals))))   # subs should be a dictionary with keys being the symbols\n",
    "\n",
    "var_z_terms = np.zeros(len(wrt))\n",
    "for ii, var, unc in zip(range(len(wrt)), wrt, uncs):\n",
    "    derivative = sym.diff(z, var)  # take the derivative wrt to each variable\n",
    "    derivative_at_xy = derivative.evalf(subs=dict(zip(wrt, vals)))  # evaluate the derivative at the values given\n",
    "    var_z_terms[ii] = (derivative_at_xy * unc) ** 2  # fill the empty array with with value of each term\n",
    "unc_z = np.sqrt(np.sum(var_z_terms))   # sum over the terms and then square root the total\n",
    "\n",
    "print_unc(z_val, unc_z)"
   ]
  },
  {
   "cell_type": "markdown",
   "id": "650d1b77-5ec8-4e25-9121-25299f38eedd",
   "metadata": {},
   "source": [
    "#### Question 9\n",
    "\n",
    "Here, we will practice with a more complicated equation. A Gaussian beam's width $w(z)$ can be modeled as:\n",
    "\n",
    "$\\begin{equation} w(z) = w_0 \\sqrt{1 + (\\frac{z-z_0}{\\pi w_0^2/\\lambda})^2}\\end{equation}$\n",
    "\n",
    "Let's say that for the output beam of one of the lasers, a fit of beam width versus position gave the following fit parameters:\n",
    "\n",
    "$z_0 = (-0.03\\pm 0.04)\\ m$\n",
    "\n",
    "$w_0 = (1.90\\pm0.09)\\ \\mu m$\n",
    "\n",
    "The wavelength is given by 𝜆 =632.8±0.1 nm.  \n",
    " \n",
    "Use Python to estimate the uncertainty in the derived width 𝑤(𝑧) when 𝑧 is a distance of (2.000 ± 0.005) m from the waist position."
   ]
  },
  {
   "cell_type": "code",
   "execution_count": 42,
   "id": "d304fbf0-da06-4b41-8cd7-1115f2acadf0",
   "metadata": {},
   "outputs": [],
   "source": [
    "# Code that here"
   ]
  },
  {
   "cell_type": "markdown",
   "id": "d3b34c45-f4de-4b0b-a699-3b194248eb6b",
   "metadata": {},
   "source": [
    "## __ERROR BARS__\n",
    "\n",
    "The error bar is a graphical way to display the uncertainty in a measurement.  In order to put error bars on a plot \n",
    "you must first estimate the error for each point.  Anytime you include error bars in a plot you should explain how \n",
    "the uncertainty in each point was estimated (e.g., you “eyeballed” the uncertainty, or you sampled it 𝑁 times and \n",
    "took the standard deviation of the mean, etc.) \n",
    "\n",
    "## __ERROR BARS IN MATPLOTLIB__\n",
    "Here you can find an example demo on how to implement error bars in matplotlib \n",
    "https://matplotlib.org/1.2.1/examples/pylab_examples/errorbar_demo.html.\n",
    "\n",
    "## __LOADING DATA__\n",
    "\n",
    "Download the txt file https://physicscourses.colorado.edu/phys4430/phys4430_fa19/UsefulDocs/gaussian_data_with_errors.txt and name it \"data.txt\" and place it in the same folder as the Jupyter Notebook. We typically have to to input the full file path, but if the file is in the same folder as our Python code, you can just give the file's name as the input instead of the full path.\n",
    "\n",
    "The file is tab-delimited can be loaded as a numpy array in the following way:"
   ]
  },
  {
   "cell_type": "code",
   "execution_count": 45,
   "id": "d16055eb-9b87-4240-8e31-30c3ac24c643",
   "metadata": {},
   "outputs": [
    {
     "name": "stdout",
     "output_type": "stream",
     "text": [
      "[[0.41  0.015 0.04 ]\n",
      " [0.412 0.016 0.04 ]\n",
      " [0.414 0.017 0.04 ]\n",
      " [0.416 0.026 0.04 ]\n",
      " [0.418 0.06  0.04 ]\n",
      " [0.42  0.176 0.04 ]\n",
      " [0.422 0.46  0.04 ]\n",
      " [0.424 0.849 0.04 ]\n",
      " [0.426 1.364 0.04 ]\n",
      " [0.428 1.971 0.04 ]\n",
      " [0.43  2.41  0.04 ]\n",
      " [0.432 2.703 0.04 ]\n",
      " [0.434 2.795 0.04 ]\n",
      " [0.436 2.861 0.04 ]\n",
      " [0.438 2.879 0.04 ]\n",
      " [0.44  2.884 0.04 ]]\n"
     ]
    }
   ],
   "source": [
    "data = np.loadtxt(\"data.txt\", delimiter=\"\\t\")\n",
    "print(data)"
   ]
  },
  {
   "cell_type": "markdown",
   "id": "3e8c40ad-d8db-4e23-9c1a-ffeee3f88f6e",
   "metadata": {},
   "source": [
    "You can select specific columns in the following way"
   ]
  },
  {
   "cell_type": "code",
   "execution_count": 46,
   "id": "8db29cdf-a4f6-4c9d-aba3-f6dcfaa69f90",
   "metadata": {},
   "outputs": [
    {
     "name": "stdout",
     "output_type": "stream",
     "text": [
      "[0.41  0.412 0.414 0.416 0.418 0.42  0.422 0.424 0.426 0.428 0.43  0.432\n",
      " 0.434 0.436 0.438 0.44 ]\n",
      "[0.015 0.016 0.017 0.026 0.06  0.176 0.46  0.849 1.364 1.971 2.41  2.703\n",
      " 2.795 2.861 2.879 2.884]\n",
      "[0.04 0.04 0.04 0.04 0.04 0.04 0.04 0.04 0.04 0.04 0.04 0.04 0.04 0.04\n",
      " 0.04 0.04]\n"
     ]
    }
   ],
   "source": [
    "print(data[:, 0])\n",
    "print(data[:, 1])\n",
    "print(data[:, 2])"
   ]
  },
  {
   "cell_type": "markdown",
   "id": "7587f1ae-5c1e-45a3-b151-dd3db196d99e",
   "metadata": {},
   "source": [
    "This follows the familiar \"row, column\" notation. \"I want _all_ (:) the rows of column x --> [:, x]\""
   ]
  },
  {
   "cell_type": "markdown",
   "id": "ad38dd3d-73f8-4c80-9862-a91d413a7405",
   "metadata": {},
   "source": [
    "Use the matplotlib example to plot this data with errorbars"
   ]
  },
  {
   "cell_type": "code",
   "execution_count": null,
   "id": "252c9fc1-4f90-4f78-978e-f3ccbfa1bcb0",
   "metadata": {},
   "outputs": [],
   "source": []
  }
 ],
 "metadata": {
  "kernelspec": {
   "display_name": "Python 3 (ipykernel)",
   "language": "python",
   "name": "python3"
  },
  "language_info": {
   "codemirror_mode": {
    "name": "ipython",
    "version": 3
   },
   "file_extension": ".py",
   "mimetype": "text/x-python",
   "name": "python",
   "nbconvert_exporter": "python",
   "pygments_lexer": "ipython3",
   "version": "3.10.6"
  }
 },
 "nbformat": 4,
 "nbformat_minor": 5
}
