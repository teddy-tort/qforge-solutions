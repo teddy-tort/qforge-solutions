{
 "cells": [
  {
   "cell_type": "markdown",
   "id": "afcfbe66-08dc-42fb-a8fb-cd4419b25e68",
   "metadata": {},
   "source": [
    "# Quantum Forge Activity 2\n",
    "## This Notebook is for me to learn the basics of Jupyter notebooks and Python\n",
    "I am excited to learn how to write Python code!"
   ]
  },
  {
   "cell_type": "code",
   "execution_count": 1,
   "id": "03890698-975c-4a78-ab79-13b26211ee8c",
   "metadata": {},
   "outputs": [
    {
     "name": "stdout",
     "output_type": "stream",
     "text": [
      "hello world\n"
     ]
    }
   ],
   "source": [
    "my_first_variable = \"hello world\"\n",
    "print(my_first_variable)"
   ]
  },
  {
   "cell_type": "code",
   "execution_count": 2,
   "id": "d9136f09-75c6-4acc-a539-8baa8db171c1",
   "metadata": {},
   "outputs": [
    {
     "name": "stdout",
     "output_type": "stream",
     "text": [
      "6.283185307179586\n"
     ]
    }
   ],
   "source": [
    "import numpy as np\n",
    "\n",
    "tau = 2*np.pi\n",
    "print(tau)"
   ]
  },
  {
   "cell_type": "code",
   "execution_count": 4,
   "id": "25194f4e-b640-4e73-822b-ae17a539129c",
   "metadata": {},
   "outputs": [
    {
     "name": "stdout",
     "output_type": "stream",
     "text": [
      "τ = 6.283185307179586\n"
     ]
    }
   ],
   "source": [
    "string1 = \"\\u03C4 = {}\".format(tau)\n",
    "print(string1)"
   ]
  },
  {
   "cell_type": "code",
   "execution_count": 7,
   "id": "5c84ac90-7a60-40e2-a2f6-c9dc5228d986",
   "metadata": {},
   "outputs": [
    {
     "name": "stdout",
     "output_type": "stream",
     "text": [
      "τ = 6.283185307179586\n",
      "τ = 6.283185307179586\n",
      "τ is a Greek letter pronounced 'tau' and it represents a full revolution around the circle; in radians τ = 6.283185307179586\n"
     ]
    }
   ],
   "source": [
    "tau_str = \"\\u03C4\"\n",
    "string2 = \"{} = {}\".format(tau_str, tau)\n",
    "string3 = \"{name} = {value}\".format(name=tau_str, value=tau)\n",
    "string4 = \"{name} is a Greek letter pronounced 'tau' and it represents a full revolution around \" \\\n",
    "\"the circle; in radians {name} = {value}\".format(name=tau_str, value=tau)\n",
    "print(string2)\n",
    "print(string3)\n",
    "print(string4)"
   ]
  },
  {
   "cell_type": "code",
   "execution_count": 8,
   "id": "fe744a13-9e8a-42eb-a7d7-a34f02eaa254",
   "metadata": {},
   "outputs": [
    {
     "name": "stdout",
     "output_type": "stream",
     "text": [
      "τ = 6.28\n"
     ]
    }
   ],
   "source": [
    "print(\"{} = {:.2f}\".format(tau_str, tau))"
   ]
  },
  {
   "cell_type": "code",
   "execution_count": 10,
   "id": "25cafa0c-52e6-40c0-83e9-ece00d131707",
   "metadata": {},
   "outputs": [
    {
     "name": "stdout",
     "output_type": "stream",
     "text": [
      "τ = 6.28\n"
     ]
    }
   ],
   "source": [
    "print(f\"{tau_str} = {tau:.2f}\")"
   ]
  },
  {
   "cell_type": "code",
   "execution_count": 11,
   "id": "84c54450-163a-4848-be6b-d74e60c33c5f",
   "metadata": {},
   "outputs": [
    {
     "name": "stdout",
     "output_type": "stream",
     "text": [
      "['this', 'is', 'my', 'first', 'list']\n"
     ]
    }
   ],
   "source": [
    "my_first_list = [\"this\", \"is\", \"my\", \"first\", \"list\"]\n",
    "print(my_first_list)"
   ]
  },
  {
   "cell_type": "code",
   "execution_count": 13,
   "id": "5a3c1221-4eb8-480c-a1fa-fc8fb0eabcf9",
   "metadata": {},
   "outputs": [
    {
     "name": "stdout",
     "output_type": "stream",
     "text": [
      "[0, 0, 0, 0, 0, 0, 0, 0, 0, 0]\n"
     ]
    }
   ],
   "source": [
    "list_to_fill = [0] * 10\n",
    "print(list_to_fill)"
   ]
  },
  {
   "cell_type": "code",
   "execution_count": 15,
   "id": "298d864c-8c46-4133-84c7-280bc866824d",
   "metadata": {},
   "outputs": [
    {
     "name": "stdout",
     "output_type": "stream",
     "text": [
      "[0, 0, 55, 0, 0, 0, 0, 12, 0, 0]\n"
     ]
    }
   ],
   "source": [
    "list_to_fill[2] = 55\n",
    "list_to_fill[7] = 12\n",
    "print(list_to_fill)"
   ]
  },
  {
   "cell_type": "code",
   "execution_count": 16,
   "id": "87a461fc-493e-4011-afed-105e5a5751c4",
   "metadata": {},
   "outputs": [
    {
     "name": "stdout",
     "output_type": "stream",
     "text": [
      "0\n",
      "1\n",
      "2\n",
      "3\n",
      "4\n",
      "5\n",
      "6\n",
      "7\n",
      "8\n",
      "9\n",
      "the\n",
      "brown\n",
      "dog\n",
      "jumped\n",
      "over\n",
      "the\n",
      "white\n",
      "fence\n"
     ]
    }
   ],
   "source": [
    "for ii in range(10):\n",
    "    print(ii)\n",
    "list_to_loop_over = 'the brown dog jumped over the white fence'.split(' ')\n",
    "for list_element in list_to_loop_over:\n",
    "    print(list_element)\n"
   ]
  },
  {
   "cell_type": "code",
   "execution_count": 18,
   "id": "317517d9-ca27-487b-8b28-91787ff14e6d",
   "metadata": {},
   "outputs": [
    {
     "name": "stdout",
     "output_type": "stream",
     "text": [
      "0: 0.03\n",
      "1: 1.2\n",
      "2: 0.25\n",
      "3: 2.35\n",
      "4: 0.044\n",
      "[0.03, 7.483185307179586, 12.816370614359172, 21.19955592153876, 25.176741228718345]\n"
     ]
    }
   ],
   "source": [
    "angles = [.03, 1.2, 0.25, 2.35, 0.044]\n",
    "new_angles = [0] * len(angles)\n",
    "for ii, angle in enumerate(angles):\n",
    "    new_angles[ii] = angle + 2*np.pi*ii\n",
    "    print(f'{ii}: {angle}')\n",
    "print(new_angles)"
   ]
  },
  {
   "cell_type": "code",
   "execution_count": 19,
   "id": "75928104-5d27-4131-8c08-54274f8ad514",
   "metadata": {},
   "outputs": [
    {
     "name": "stdout",
     "output_type": "stream",
     "text": [
      "1 :: a\n",
      "2 :: b\n",
      "3 :: c\n"
     ]
    }
   ],
   "source": [
    "list1 = [1,2,3]\n",
    "list2 = ['a', 'b', 'c']\n",
    "for el1, el2 in zip(list1, list2):\n",
    "    print(f'{el1} :: {el2}')"
   ]
  },
  {
   "cell_type": "code",
   "execution_count": 20,
   "id": "a5b01438-c7e2-432a-85f8-f4414cc0fb85",
   "metadata": {},
   "outputs": [
    {
     "name": "stdout",
     "output_type": "stream",
     "text": [
      "1 :: a\n",
      "1 :: b\n",
      "1 :: c\n",
      "2 :: a\n",
      "2 :: b\n",
      "2 :: c\n",
      "3 :: a\n",
      "3 :: b\n",
      "3 :: c\n"
     ]
    }
   ],
   "source": [
    "for el1 in list1:\n",
    "    for el2 in list2:\n",
    "        print(f'{el1} :: {el2}')"
   ]
  },
  {
   "cell_type": "code",
   "execution_count": 25,
   "id": "05f50386-3a24-4ed7-831c-6f148755409e",
   "metadata": {},
   "outputs": [
    {
     "name": "stdout",
     "output_type": "stream",
     "text": [
      "<zip object at 0x000001B07E3F3900>\n",
      "((1, 'a'), (2, 'b'), (3, 'c'))\n"
     ]
    }
   ],
   "source": [
    "print(zip(list1,list2))\n",
    "print(tuple(zip(list1,list2)))"
   ]
  },
  {
   "cell_type": "code",
   "execution_count": 26,
   "id": "2e712cc7-3c7c-464d-8bf6-1bee309c7314",
   "metadata": {},
   "outputs": [
    {
     "name": "stdout",
     "output_type": "stream",
     "text": [
      "(2, 3)\n"
     ]
    }
   ],
   "source": [
    "my_array = np.array([[1,2,3],[2,3,1]])\n",
    "print(my_array.shape)"
   ]
  },
  {
   "cell_type": "code",
   "execution_count": 27,
   "id": "7c2f188e-3b70-4369-a78f-89657ad2a440",
   "metadata": {},
   "outputs": [
    {
     "name": "stdout",
     "output_type": "stream",
     "text": [
      "[ 0  1  4  9 16]\n",
      "[[ 0  4  8 12 16]\n",
      " [ 0  2  4  6  8]\n",
      " [ 0  3  6  9 12]\n",
      " [ 0  1  2  3  4]]\n",
      "[[16]\n",
      " [ 4]\n",
      " [ 9]\n",
      " [ 1]]\n",
      "[0 2 4 6 8]\n",
      "[[4 5 6 7 8]\n",
      " [2 3 4 5 6]\n",
      " [3 4 5 6 7]\n",
      " [1 2 3 4 5]]\n",
      "[[8]\n",
      " [4]\n",
      " [6]\n",
      " [2]]\n"
     ]
    }
   ],
   "source": [
    "x = np.arange(5)\n",
    "y = np.array([[4],[2],[3],[1]])\n",
    "print(x*x)\n",
    "print(x*y)\n",
    "print(y*y)\n",
    "print(x+x)\n",
    "print(x+y)\n",
    "print(y+y)"
   ]
  },
  {
   "cell_type": "code",
   "execution_count": 29,
   "id": "4d34206b-b5f2-421f-868d-cabaf778fb44",
   "metadata": {},
   "outputs": [
    {
     "name": "stdout",
     "output_type": "stream",
     "text": [
      "[ 2 27  4]\n",
      "33\n"
     ]
    }
   ],
   "source": [
    "x=np.array([1,3,4])\n",
    "y=np.array([2,9,1])\n",
    "print(x*y)\n",
    "print(np.dot(x,y))"
   ]
  },
  {
   "cell_type": "code",
   "execution_count": 31,
   "id": "4eaeb8fe-0c8d-404d-8525-70fe948619fd",
   "metadata": {},
   "outputs": [
    {
     "name": "stdout",
     "output_type": "stream",
     "text": [
      "[[8 5]\n",
      " [8 5]]\n"
     ]
    }
   ],
   "source": [
    "mat1 = np.array([[1,2],[1,2]])\n",
    "mat2 = np.array([[2,1],[3,2]])\n",
    "print(np.matmul(mat1,mat2))"
   ]
  },
  {
   "cell_type": "code",
   "execution_count": null,
   "id": "273104e3-980b-4926-ba8a-826e93a1d5af",
   "metadata": {},
   "outputs": [],
   "source": []
  }
 ],
 "metadata": {
  "kernelspec": {
   "display_name": "Python 3 (ipykernel)",
   "language": "python",
   "name": "python3"
  },
  "language_info": {
   "codemirror_mode": {
    "name": "ipython",
    "version": 3
   },
   "file_extension": ".py",
   "mimetype": "text/x-python",
   "name": "python",
   "nbconvert_exporter": "python",
   "pygments_lexer": "ipython3",
   "version": "3.10.6"
  }
 },
 "nbformat": 4,
 "nbformat_minor": 5
}
